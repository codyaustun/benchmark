{
 "cells": [
  {
   "cell_type": "code",
   "execution_count": 37,
   "metadata": {
    "collapsed": true
   },
   "outputs": [],
   "source": [
    "import os\n",
    "import json\n",
    "from datetime import datetime, timedelta\n",
    "\n",
    "import pandas as pd\n",
    "import numpy as np"
   ]
  },
  {
   "cell_type": "code",
   "execution_count": 5,
   "metadata": {
    "collapsed": true
   },
   "outputs": [],
   "source": [
    "nsubmissions = 20"
   ]
  },
  {
   "cell_type": "code",
   "execution_count": 9,
   "metadata": {},
   "outputs": [
    {
     "data": {
      "text/plain": [
       "array([ 989.89096428,  916.54984835,  385.58160595,  558.30747193,\n",
       "        483.32787746,  506.87824474,  857.53173159,  154.5680828 ,\n",
       "         21.60559614,  726.36488162,  366.10423711,  278.46470622,\n",
       "        539.81568669,  545.90167365,  982.71437099,  703.03546419,\n",
       "        730.07313718,  354.96471597,  613.37082766,  135.07260994])"
      ]
     },
     "execution_count": 9,
     "metadata": {},
     "output_type": "execute_result"
    }
   ],
   "source": [
    "times = np.random.uniform(low=10, high=1000, size=nsubmissions)\n",
    "times"
   ]
  },
  {
   "cell_type": "code",
   "execution_count": 12,
   "metadata": {},
   "outputs": [
    {
     "data": {
      "text/plain": [
       "array([ 95.65767396,  95.18618626,  93.18126349,  94.6314803 ,\n",
       "        95.2646097 ,  94.96341976,  94.21781665,  94.01038307,\n",
       "        94.5412606 ,  93.65413041,  93.33132626,  94.58155823,\n",
       "        94.50329885,  92.96399617,  93.748286  ,  95.06597011,\n",
       "        94.48343024,  92.92256867,  95.09894362,  94.71476214])"
      ]
     },
     "execution_count": 12,
     "metadata": {},
     "output_type": "execute_result"
    }
   ],
   "source": [
    "accuracies = np.random.normal(loc=94.0, scale=1, size=nsubmissions)\n",
    "accuracies"
   ]
  },
  {
   "cell_type": "code",
   "execution_count": 38,
   "metadata": {},
   "outputs": [
    {
     "data": {
      "text/plain": [
       "datetime.datetime(2017, 8, 9, 9, 58, 23, 49366)"
      ]
     },
     "execution_count": 38,
     "metadata": {},
     "output_type": "execute_result"
    }
   ],
   "source": [
    "datetime.now() "
   ]
  },
  {
   "cell_type": "code",
   "execution_count": null,
   "metadata": {
    "collapsed": true
   },
   "outputs": [],
   "source": [
    "timedelta()"
   ]
  },
  {
   "cell_type": "code",
   "execution_count": 17,
   "metadata": {
    "collapsed": true
   },
   "outputs": [],
   "source": [
    "df = pd.DataFrame(data={\"time\": times, \"accuracy\": accuracies})"
   ]
  },
  {
   "cell_type": "code",
   "execution_count": 24,
   "metadata": {},
   "outputs": [],
   "source": [
    "df['model'] = [f\"Test Model {i}\" for i in range(len(df))]\n",
    "df['author'] = [\"Stanford University\"] * len(df)\n",
    "df['url'] = [\"https://arxiv.org/abs/1707.09098\"] * len(df)"
   ]
  },
  {
   "cell_type": "code",
   "execution_count": 26,
   "metadata": {},
   "outputs": [
    {
     "data": {
      "text/html": [
       "<div>\n",
       "<style>\n",
       "    .dataframe thead tr:only-child th {\n",
       "        text-align: right;\n",
       "    }\n",
       "\n",
       "    .dataframe thead th {\n",
       "        text-align: left;\n",
       "    }\n",
       "\n",
       "    .dataframe tbody tr th {\n",
       "        vertical-align: top;\n",
       "    }\n",
       "</style>\n",
       "<table border=\"1\" class=\"dataframe\">\n",
       "  <thead>\n",
       "    <tr style=\"text-align: right;\">\n",
       "      <th></th>\n",
       "      <th>accuracy</th>\n",
       "      <th>time</th>\n",
       "      <th>model</th>\n",
       "      <th>author</th>\n",
       "      <th>url</th>\n",
       "    </tr>\n",
       "  </thead>\n",
       "  <tbody>\n",
       "    <tr>\n",
       "      <th>0</th>\n",
       "      <td>95.657674</td>\n",
       "      <td>989.890964</td>\n",
       "      <td>Test Model 0</td>\n",
       "      <td>Stanford University</td>\n",
       "      <td>https://arxiv.org/abs/1707.09098</td>\n",
       "    </tr>\n",
       "    <tr>\n",
       "      <th>1</th>\n",
       "      <td>95.186186</td>\n",
       "      <td>916.549848</td>\n",
       "      <td>Test Model 1</td>\n",
       "      <td>Stanford University</td>\n",
       "      <td>https://arxiv.org/abs/1707.09098</td>\n",
       "    </tr>\n",
       "    <tr>\n",
       "      <th>2</th>\n",
       "      <td>93.181263</td>\n",
       "      <td>385.581606</td>\n",
       "      <td>Test Model 2</td>\n",
       "      <td>Stanford University</td>\n",
       "      <td>https://arxiv.org/abs/1707.09098</td>\n",
       "    </tr>\n",
       "    <tr>\n",
       "      <th>3</th>\n",
       "      <td>94.631480</td>\n",
       "      <td>558.307472</td>\n",
       "      <td>Test Model 3</td>\n",
       "      <td>Stanford University</td>\n",
       "      <td>https://arxiv.org/abs/1707.09098</td>\n",
       "    </tr>\n",
       "    <tr>\n",
       "      <th>4</th>\n",
       "      <td>95.264610</td>\n",
       "      <td>483.327877</td>\n",
       "      <td>Test Model 4</td>\n",
       "      <td>Stanford University</td>\n",
       "      <td>https://arxiv.org/abs/1707.09098</td>\n",
       "    </tr>\n",
       "  </tbody>\n",
       "</table>\n",
       "</div>"
      ],
      "text/plain": [
       "    accuracy        time         model               author  \\\n",
       "0  95.657674  989.890964  Test Model 0  Stanford University   \n",
       "1  95.186186  916.549848  Test Model 1  Stanford University   \n",
       "2  93.181263  385.581606  Test Model 2  Stanford University   \n",
       "3  94.631480  558.307472  Test Model 3  Stanford University   \n",
       "4  95.264610  483.327877  Test Model 4  Stanford University   \n",
       "\n",
       "                                url  \n",
       "0  https://arxiv.org/abs/1707.09098  \n",
       "1  https://arxiv.org/abs/1707.09098  \n",
       "2  https://arxiv.org/abs/1707.09098  \n",
       "3  https://arxiv.org/abs/1707.09098  \n",
       "4  https://arxiv.org/abs/1707.09098  "
      ]
     },
     "execution_count": 26,
     "metadata": {},
     "output_type": "execute_result"
    }
   ],
   "source": [
    "df.head()"
   ]
  },
  {
   "cell_type": "code",
   "execution_count": 36,
   "metadata": {},
   "outputs": [],
   "source": [
    "dest = '../results/CIFAR10/train/'\n",
    "for index, row in df.iterrows():\n",
    "    with open(os.path.join(dest, f'fake_submission_{index}.json'), mode='w') as file:\n",
    "        json.dump(row.to_dict(), file)\n",
    "        file.write('\\n')"
   ]
  },
  {
   "cell_type": "code",
   "execution_count": 35,
   "metadata": {},
   "outputs": [
    {
     "data": {
      "text/plain": [
       "['submission_0.json',\n",
       " 'submission_1.json',\n",
       " 'submission_10.json',\n",
       " 'submission_11.json',\n",
       " 'submission_12.json',\n",
       " 'submission_13.json',\n",
       " 'submission_14.json',\n",
       " 'submission_15.json',\n",
       " 'submission_16.json',\n",
       " 'submission_17.json',\n",
       " 'submission_18.json',\n",
       " 'submission_19.json',\n",
       " 'submission_2.json',\n",
       " 'submission_3.json',\n",
       " 'submission_4.json',\n",
       " 'submission_5.json',\n",
       " 'submission_6.json',\n",
       " 'submission_7.json',\n",
       " 'submission_8.json',\n",
       " 'submission_9.json']"
      ]
     },
     "execution_count": 35,
     "metadata": {},
     "output_type": "execute_result"
    }
   ],
   "source": [
    "os.listdir(dest)"
   ]
  },
  {
   "cell_type": "code",
   "execution_count": null,
   "metadata": {
    "collapsed": true
   },
   "outputs": [],
   "source": []
  }
 ],
 "metadata": {
  "kernelspec": {
   "display_name": "Python 3",
   "language": "python",
   "name": "python3"
  },
  "language_info": {
   "codemirror_mode": {
    "name": "ipython",
    "version": 3
   },
   "file_extension": ".py",
   "mimetype": "text/x-python",
   "name": "python",
   "nbconvert_exporter": "python",
   "pygments_lexer": "ipython3",
   "version": "3.6.1"
  }
 },
 "nbformat": 4,
 "nbformat_minor": 2
}
